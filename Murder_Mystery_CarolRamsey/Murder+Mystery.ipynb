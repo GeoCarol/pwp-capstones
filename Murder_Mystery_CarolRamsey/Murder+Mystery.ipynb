{
 "cells": [
  {
   "cell_type": "markdown",
   "metadata": {},
   "source": [
    "# Preamble: A Brand New Jay\n",
    "\n",
    "After an eventful season on season 8 of *A Brand New Jay*, the 3 remaining contestants were invited to Jay Stacksby's private island for the last three episodes. When the day of filming the finale came Mr. Stacksby was found with one of his Professional Series 8-inch Chef Knives plunged through his heart! After the initial investigation highlighted that the film crew all lived in a separate house on the other side of the island, it was concluded that only the three contestants were near enough to Stacksby in order to commit a crime. At the scene of the crime, a letter was left. Here are the contents of that letter:\n",
    "\n",
    "> You may call me heartless, a killer, a monster, a murderer, but I'm still NOTHING compared to the villian that Jay was. This whole contest was a sham, an elaborate plot to shame the contestants and feed Jay's massive, massive ego. SURE you think you know him! You've seen him smiling for the cameras, laughing, joking, telling stories, waving his money around like a prop but off camera he was a sinister beast, a cruel cruel taskmaster, he treated all of us like slaves, like cattle, like animals! Do you remember Lindsay, she was the first to go, he called her such horrible things that she cried all night, keeping up all up, crying, crying, and more crying, he broke her with his words. I miss my former cast members, all of them very much. And we had to live with him, live in his home, live in his power, deal with his crazy demands. AND FOR WHAT! DID YOU KNOW THAT THE PRIZE ISN'T REAL? He never intended to marry one of us! The carrot on the stick was gone, all that was left was stick, he told us last night that we were all a terrible terrible disappointment and none of us would ever amount to anything, and that regardless of who won the contest he would never speak to any of us again! It's definitely the things like this you can feel in your gut how wrong he is! Well I showed him, he got what he deserved all right, I showed him, I showed him the person I am! I wasn't going to be pushed around any longer, and I wasn't going to let him go on pretending that he was some saint when all he was was a sick sick twisted man who deserved every bit of what he got. The fans need to know, Jay Stacksby is a vile amalgamation of all things evil and bad and the world is a better place without him.\n",
    "\n",
    "Pretty sinister stuff! Luckily, in addition to this bold-faced admission, we have the introduction letters of the three contestants. Maybe there is a way to use this information to determine who the author of this murder letter is?\n",
    "\n",
    "Myrtle Beech's introduction letter:\n",
    "> Salutations. My name? Myrtle. Myrtle Beech. I am a woman of simple tastes. I enjoy reading, thinking, and doing my taxes. I entered this competition because I want a serious relationship. I want a commitment. The last man I dated was too whimsical. He wanted to go on dates that had no plan. No end goal. Sometimes we would just end up wandering the streets after dinner. He called it a \"walk\". A \"walk\" with no destination. Can you imagine? I like every action I take to have a measurable effect. When I see a movie, I like to walk away with insights that I did not have before. When I take a bike ride, there better be a worthy destination at the end of the bike path. Jay seems frivolous at times. This worries me. However, it is my staunch belief that one does not make and keep money without having a modicum of discipline. As such, I am hopeful. I will now list three things I cannot live without. Water. Emery boards. Dogs. Thank you for the opportunity to introduce myself. I look forward to the competition. \n",
    "\n",
    "Lily Trebuchet's introduction letter:\n",
    "> Hi, I'm Lily Trebuchet from East Egg, Long Island. I love cats, hiking, and curling up under a warm blanket with a book. So they gave this little questionnaire to use for our bios so lets get started. What are some of my least favorite household chores? Dishes, oh yes it's definitely the dishes, I just hate doing them, don't you? Who is your favorite actor and why? Hmm, that's a hard one, but I think recently I'll have to go with Michael B. Jordan, every bit of that man is handsome, HANDSOME! Do you remember seeing him shirtless? I can't believe what he does for the cameras! Okay okay next question, what is your perfect date? Well it starts with a nice dinner at a delicious but small restaurant, you know like one of those places where the owner is in the back and comes out to talk to you and ask you how your meal was. My favorite form of art? Another hard one, but I think I'll have to go with music, music you can feel in your whole body and it is electrifying and best of all, you can dance to it! Okay final question, let's see, What are three things you cannot live without? Well first off, my beautiful, beautiful cat Jerry, he is my heart and spirit animal. Second is pasta, definitely pasta, and the third I think is my family, I love all of them very much and they support me in everything I do. I know Jay Stacksby is a handsome man and all of us want to be the first to walk down the aisle with him, but I think he might truly be the one for me. Okay that's it for the bio, I hope you have fun watching the show! \n",
    "\n",
    "Gregg T Fishy's introduction letter:\n",
    "\n",
    "> A good day to you all, I am Gregg T Fishy, of the Fishy Enterprise fortune. I am 37 years young. An adventurous spirit and I've never lost my sense of childlike wonder. I do love to be in the backyard gardening and I have the most extraordinary time when I'm fishing. Fishing for what, you might ask? Why, fishing for compliments of course! I have a stunning pair of radiant blue eyes. They will pierce the soul of anyone who dare gaze upon my countenance. I quite enjoy going on long jaunts through garden paths and short walks through greenhouses. I hope that Jay will be as absolutely interesting as he appears on the television. I find that he has some of the most curious tastes in style and humor. When I'm out and about I quite enjoy hearing tales that instill in my heart of hearts the fascination that beguiles my every day life. Every fiber of my being scintillates and vascillates with extreme pleasure during one of these charming anecdotes and significantly pleases my beautiful personage. I cannot wait to enjoy being on A Brand New Jay. It certainly seems like a grand time to explore life and love."
   ]
  },
  {
   "cell_type": "markdown",
   "metadata": {},
   "source": [
    "## Saving The Different Examples as Variables\n",
    "\n",
    "First let's create variables to hold the text data in! Save the muder note as a string in a variable called `murder_note`. Save Lily Trebuchet's introduction into `lily_trebuchet_intro`. Save Myrtle Beech's introduction into `myrtle_beech_intro`. Save Gregg T Fishy's introduction into `gregg_t_fishy_intro`."
   ]
  },
  {
   "cell_type": "code",
   "execution_count": 92,
   "metadata": {},
   "outputs": [],
   "source": [
    "murder_note = \"\"\"You may call me heartless, a killer, a monster, a murderer, but I'm still NOTHING compared to the villian that Jay was. This whole contest was a sham, an elaborate plot to shame the contestants and feed Jay's massive, massive ego. SURE you think you know him! You've seen him smiling for the cameras, laughing, joking, telling stories, waving his money around like a prop but off camera he was a sinister beast, a cruel cruel taskmaster, he treated all of us like slaves, like cattle, like animals! Do you remember Lindsay, she was the first to go, he called her such horrible things that she cried all night, keeping up all up, crying, crying, and more crying, he broke her with his words. I miss my former cast members, all of them very much. And we had to live with him, live in his home, live in his power, deal with his crazy demands. AND FOR WHAT! DID YOU KNOW THAT THE PRIZE ISN'T REAL? He never intended to marry one of us! The carrot on the stick was gone, all that was left was stick, he told us last night that we were all a terrible terrible disappointment and none of us would ever amount to anything, and that regardless of who won the contest he would never speak to any of us again! It's definitely the things like this you can feel in your gut how wrong he is! Well I showed him, he got what he deserved all right, I showed him, I showed him the person I am! I wasn't going to be pushed around any longer, and I wasn't going to let him go on pretending that he was some saint when all he was was a sick sick twisted man who deserved every bit of what he got. The fans need to know, Jay Stacksby is a vile amalgamation of all things evil and bad and the world is a better place without him.\"\"\"\n",
    "myrtle_beech_intro = \"\"\"Salutations. My name? Myrtle. Myrtle Beech. I am a woman of simple tastes. I enjoy reading, thinking, and doing my taxes. I entered this competition because I want a serious relationship. I want a commitment. The last man I dated was too whimsical. He wanted to go on dates that had no plan. No end goal. Sometimes we would just end up wandering the streets after dinner. He called it a \"walk\". A \"walk\" with no destination. Can you imagine? I like every action I take to have a measurable effect. When I see a movie, I like to walk away with insights that I did not have before. When I take a bike ride, there better be a worthy destination at the end of the bike path. Jay seems frivolous at times. This worries me. However, it is my staunch belief that one does not make and keep money without having a modicum of discipline. As such, I am hopeful. I will now list three things I cannot live without. Water. Emery boards. Dogs. Thank you for the opportunity to introduce myself. I look forward to the competition.\"\"\"\n",
    "lily_trebuchet_intro = \"\"\"Hi, I'm Lily Trebuchet from East Egg, Long Island. I love cats, hiking, and curling up under a warm blanket with a book. So they gave this little questionnaire to use for our bios so lets get started. What are some of my least favorite household chores? Dishes, oh yes it's definitely the dishes, I just hate doing them, don't you? Who is your favorite actor and why? Hmm, that's a hard one, but I think recently I'll have to go with Michael B. Jordan, every bit of that man is handsome, HANDSOME! Do you remember seeing him shirtless? I can't believe what he does for the cameras! Okay okay next question, what is your perfect date? Well it starts with a nice dinner at a delicious but small restaurant, you know like one of those places where the owner is in the back and comes out to talk to you and ask you how your meal was. My favorite form of art? Another hard one, but I think I'll have to go with music, music you can feel in your whole body and it is electrifying and best of all, you can dance to it! Okay final question, let's see, What are three things you cannot live without? Well first off, my beautiful, beautiful cat Jerry, he is my heart and spirit animal. Second is pasta, definitely pasta, and the third I think is my family, I love all of them very much and they support me in everything I do. I know Jay Stacksby is a handsome man and all of us want to be the first to walk down the aisle with him, but I think he might truly be the one for me. Okay that's it for the bio, I hope you have fun watching the show!\"\"\"\n",
    "gregg_t_fishy_intro = \"\"\"A good day to you all, I am Gregg T Fishy, of the Fishy Enterprise fortune. I am 37 years young. An adventurous spirit and I've never lost my sense of childlike wonder. I do love to be in the backyard gardening and I have the most extraordinary time when I'm fishing. Fishing for what, you might ask? Why, fishing for compliments of course! I have a stunning pair of radiant blue eyes. They will pierce the soul of anyone who dare gaze upon my countenance. I quite enjoy going on long jaunts through garden paths and short walks through greenhouses. I hope that Jay will be as absolutely interesting as he appears on the television. I find that he has some of the most curious tastes in style and humor. When I'm out and about I quite enjoy hearing tales that instill in my heart of hearts the fascination that beguiles my every day life. Every fiber of my being scintillates and vascillates with extreme pleasure during one of these charming anecdotes and significantly pleases my beautiful personage. I cannot wait to enjoy being on A Brand New Jay. It certainly seems like a grand time to explore life and love.\"\"\""
   ]
  },
  {
   "cell_type": "markdown",
   "metadata": {},
   "source": [
    "## The First Indicator: Sentence Length\n",
    "\n",
    "Perhaps some meaningful data can first be gleaned from these text examples if we measure how long the average sentence length is. Different authors have different patterns of written speech, so this could be very useful in tracking down the killer.\n",
    "\n",
    "Write a function `get_average_sentence_length` that takes some `text` as an argument. This function should return the average length of a sentence in the text.\n",
    "\n",
    "Hint (highlight this hint in order to reveal it): \n",
    "<font color=\"white\">Use your knowledge of _string methods_ to create a list of all of the sentences in a text, called **sentences_in_text**. \n",
    "Further break up each **sentences_in_text** into a list of words and save the _length_ of that list of words to a new list that contains all the sentence lengths, called **sentence_lengths**. Take the average of all of the sentence lengths by adding them all together and dividing by the number of sentences (which should be the same as the length of the **sentence_lengths**).\n",
    "\n",
    "Remember sentences can end with more than one kind of punctuation, you might find it easiest to use **.replace()** so you only have to split on one punctuation mark. Remember **.replace()** doesn't modify the string itself, it returns a new string!</font>"
   ]
  },
  {
   "cell_type": "code",
   "execution_count": 93,
   "metadata": {},
   "outputs": [],
   "source": [
    "# Function to return the average length of a sentence in the text\n",
    "def get_average_sentence_length(text):\n",
    "    # Replace exclamation marks and question marks with \". \"\n",
    "    fix_exclamation = text.replace(\"!\", \".\")\n",
    "    fix_punctuation = fix_exclamation.replace(\"?\", \".\")\n",
    "    \n",
    "    # print(\"\\n####These sentences end in periods.####\\n\" + fix_punctuation)\n",
    "\n",
    "    # Break paragraphs at \".\" to make a list of sentences in the text\n",
    "    sentences_in_text = fix_punctuation.split(\". \")\n",
    "    # print(\"\\n####These are the sentences in the paragraph.####\\n\" + str(sentences_in_text))\n",
    "\n",
    "    # Make a list of the lengths of each sentence and count the number of sentences\n",
    "    sentence_lengths = []\n",
    "    sentence_count = 0\n",
    "    sum_of_sentence_lengths = 0\n",
    "    for sentence in sentences_in_text:\n",
    "        sentence_lengths.append(len(sentence))\n",
    "        sentence_count += 1\n",
    "    \n",
    "    for length in sentence_lengths:\n",
    "        sum_of_sentence_lengths += length\n",
    "    \n",
    "    # print(\"\\n####These are the lengths of each sentence in the paragraph.####\\n\" + str(sentence_lengths))\n",
    "    # print(\"\\n####This is the number of sentences in the paragraph.####\\n\" + str(sentence_count))\n",
    "    # print(\"\\n####This is the total length of all sentences in the paragraph.####\\n\" + str(sum_of_sentence_lengths))\n",
    "\n",
    "    # divide the sum of the sentence lengths and divide by the number of sentences in the paragraph\n",
    "    average_sentence_length = sum_of_sentence_lengths / sentence_count\n",
    "    # print(\"\\n####This is the average length of the sentences.####\\n\" + str(average_sentence_length))\n",
    "    return average_sentence_length"
   ]
  },
  {
   "cell_type": "markdown",
   "metadata": {},
   "source": [
    "## Creating The Definition for Our Model\n",
    "\n",
    "Now that we have a metric we want to save and data that is coupled with that metric, it might be time to create our data type. Let's define a class called `TextSample` with a constructor. The constructor should take two arguments: `text` and `author`. `text` should be saved as `self.raw_text`. Call `get_average_sentence_length` with the raw text and save it to `self.average_sentence_length`. You should save the author of the text as `self.author`.\n",
    "\n",
    "Additionally, define a string representation for the model. If you print a `TextSample` it should render:\n",
    " - The author's name\n",
    " - The average sentence length\n",
    " \n",
    "This will be your main class for the problem at hand. All later instruction to update `TextSample` should be done in the code block below. After updating `TextSample`, click on the `Cell` option in the Jupyter Notebook main menu above, then click `Run All` to rerun the cells from top to bottom. If you need to restart your Jupyter Notebook either run the cells below first or move the `TextSample` class definition & instantiation cells to the bottom."
   ]
  },
  {
   "cell_type": "code",
   "execution_count": 94,
   "metadata": {},
   "outputs": [],
   "source": [
    "# Create the class definition for our model\n",
    "class TextSample:\n",
    "    def __init__(self, text, author):\n",
    "        self.raw_text = text\n",
    "        self.author = author\n",
    "        self.average_sentence_length = get_average_sentence_length(text)\n",
    "        self.prepared_text = prepare_text(text)\n",
    "        self.word_count_frequency = build_frequency_table(self.prepared_text)\n",
    "        self.ngram_frequency = build_frequency_table(ngram_creator(self.prepared_text))\n",
    "    def __repr__(self):\n",
    "        return \"Author: {author} \\nAverage sentence length: {average_sentence_length} \\nPrepared text: {prepared_text} \\nWord frequency table: {frequency_table}\".format(author = self.author, average_sentence_length = self.average_sentence_length, prepared_text = self.prepared_text, frequency_table = self.word_count_frequency)"
   ]
  },
  {
   "cell_type": "markdown",
   "metadata": {},
   "source": [
    "### Creating our TextSample Instances\n",
    "\n",
    "Now create a `TextSample` object for each of the samples of text that we have.\n",
    " - `murderer_sample` for the murderer's note.\n",
    " - `lily_sample` for Lily Trebuchet's note.\n",
    " - `myrtle_sample` for Myrtle Beech's note.\n",
    " - `gregg_sample` for Gregg T Fishy's note.\n",
    " \n",
    "Print out each one after instantiating them."
   ]
  },
  {
   "cell_type": "code",
   "execution_count": 95,
   "metadata": {},
   "outputs": [
    {
     "name": "stdout",
     "output_type": "stream",
     "text": [
      "Author: Murderer \n",
      "Average sentence length: 111.86666666666666 \n",
      "Prepared text: ['you', 'may', 'call', 'me', 'heartless,', 'a', 'killer,', 'a', 'monster,', 'a', 'murderer,', 'but', \"i'm\", 'still', 'nothing', 'compared', 'to', 'the', 'villian', 'that', 'jay', 'was', 'this', 'whole', 'contest', 'was', 'a', 'sham,', 'an', 'elaborate', 'plot', 'to', 'shame', 'the', 'contestants', 'and', 'feed', \"jay's\", 'massive,', 'massive', 'ego', 'sure', 'you', 'think', 'you', 'know', 'him', \"you've\", 'seen', 'him', 'smiling', 'for', 'the', 'cameras,', 'laughing,', 'joking,', 'telling', 'stories,', 'waving', 'his', 'money', 'around', 'like', 'a', 'prop', 'but', 'off', 'camera', 'he', 'was', 'a', 'sinister', 'beast,', 'a', 'cruel', 'cruel', 'taskmaster,', 'he', 'treated', 'all', 'of', 'us', 'like', 'slaves,', 'like', 'cattle,', 'like', 'animals', 'do', 'you', 'remember', 'lindsay,', 'she', 'was', 'the', 'first', 'to', 'go,', 'he', 'called', 'her', 'such', 'horrible', 'things', 'that', 'she', 'cried', 'all', 'night,', 'keeping', 'up', 'all', 'up,', 'crying,', 'crying,', 'and', 'more', 'crying,', 'he', 'broke', 'her', 'with', 'his', 'words', 'i', 'miss', 'my', 'former', 'cast', 'members,', 'all', 'of', 'them', 'very', 'much', 'and', 'we', 'had', 'to', 'live', 'with', 'him,', 'live', 'in', 'his', 'home,', 'live', 'in', 'his', 'power,', 'deal', 'with', 'his', 'crazy', 'demands', 'and', 'for', 'what', 'did', 'you', 'know', 'that', 'the', 'prize', \"isn't\", 'real', 'he', 'never', 'intended', 'to', 'marry', 'one', 'of', 'us', 'the', 'carrot', 'on', 'the', 'stick', 'was', 'gone,', 'all', 'that', 'was', 'left', 'was', 'stick,', 'he', 'told', 'us', 'last', 'night', 'that', 'we', 'were', 'all', 'a', 'terrible', 'terrible', 'disappointment', 'and', 'none', 'of', 'us', 'would', 'ever', 'amount', 'to', 'anything,', 'and', 'that', 'regardless', 'of', 'who', 'won', 'the', 'contest', 'he', 'would', 'never', 'speak', 'to', 'any', 'of', 'us', 'again', \"it's\", 'definitely', 'the', 'things', 'like', 'this', 'you', 'can', 'feel', 'in', 'your', 'gut', 'how', 'wrong', 'he', 'is', 'well', 'i', 'showed', 'him,', 'he', 'got', 'what', 'he', 'deserved', 'all', 'right,', 'i', 'showed', 'him,', 'i', 'showed', 'him', 'the', 'person', 'i', 'am', 'i', \"wasn't\", 'going', 'to', 'be', 'pushed', 'around', 'any', 'longer,', 'and', 'i', \"wasn't\", 'going', 'to', 'let', 'him', 'go', 'on', 'pretending', 'that', 'he', 'was', 'some', 'saint', 'when', 'all', 'he', 'was', 'was', 'a', 'sick', 'sick', 'twisted', 'man', 'who', 'deserved', 'every', 'bit', 'of', 'what', 'he', 'got', 'the', 'fans', 'need', 'to', 'know,', 'jay', 'stacksby', 'is', 'a', 'vile', 'amalgamation', 'of', 'all', 'things', 'evil', 'and', 'bad', 'and', 'the', 'world', 'is', 'a', 'better', 'place', 'without', 'him'] \n",
      "Word frequency table: {'you': 6, 'may': 1, 'call': 1, 'me': 1, 'heartless,': 1, 'a': 11, 'killer,': 1, 'monster,': 1, 'murderer,': 1, 'but': 2, \"i'm\": 1, 'still': 1, 'nothing': 1, 'compared': 1, 'to': 10, 'the': 12, 'villian': 1, 'that': 7, 'jay': 2, 'was': 10, 'this': 2, 'whole': 1, 'contest': 2, 'sham,': 1, 'an': 1, 'elaborate': 1, 'plot': 1, 'shame': 1, 'contestants': 1, 'and': 9, 'feed': 1, \"jay's\": 1, 'massive,': 1, 'massive': 1, 'ego': 1, 'sure': 1, 'think': 1, 'know': 2, 'him': 5, \"you've\": 1, 'seen': 1, 'smiling': 1, 'for': 2, 'cameras,': 1, 'laughing,': 1, 'joking,': 1, 'telling': 1, 'stories,': 1, 'waving': 1, 'his': 5, 'money': 1, 'around': 2, 'like': 5, 'prop': 1, 'off': 1, 'camera': 1, 'he': 13, 'sinister': 1, 'beast,': 1, 'cruel': 2, 'taskmaster,': 1, 'treated': 1, 'all': 9, 'of': 8, 'us': 5, 'slaves,': 1, 'cattle,': 1, 'animals': 1, 'do': 1, 'remember': 1, 'lindsay,': 1, 'she': 2, 'first': 1, 'go,': 1, 'called': 1, 'her': 2, 'such': 1, 'horrible': 1, 'things': 3, 'cried': 1, 'night,': 1, 'keeping': 1, 'up': 1, 'up,': 1, 'crying,': 3, 'more': 1, 'broke': 1, 'with': 3, 'words': 1, 'i': 7, 'miss': 1, 'my': 1, 'former': 1, 'cast': 1, 'members,': 1, 'them': 1, 'very': 1, 'much': 1, 'we': 2, 'had': 1, 'live': 3, 'him,': 3, 'in': 3, 'home,': 1, 'power,': 1, 'deal': 1, 'crazy': 1, 'demands': 1, 'what': 3, 'did': 1, 'prize': 1, \"isn't\": 1, 'real': 1, 'never': 2, 'intended': 1, 'marry': 1, 'one': 1, 'carrot': 1, 'on': 2, 'stick': 1, 'gone,': 1, 'left': 1, 'stick,': 1, 'told': 1, 'last': 1, 'night': 1, 'were': 1, 'terrible': 2, 'disappointment': 1, 'none': 1, 'would': 2, 'ever': 1, 'amount': 1, 'anything,': 1, 'regardless': 1, 'who': 2, 'won': 1, 'speak': 1, 'any': 2, 'again': 1, \"it's\": 1, 'definitely': 1, 'can': 1, 'feel': 1, 'your': 1, 'gut': 1, 'how': 1, 'wrong': 1, 'is': 3, 'well': 1, 'showed': 3, 'got': 2, 'deserved': 2, 'right,': 1, 'person': 1, 'am': 1, \"wasn't\": 2, 'going': 2, 'be': 1, 'pushed': 1, 'longer,': 1, 'let': 1, 'go': 1, 'pretending': 1, 'some': 1, 'saint': 1, 'when': 1, 'sick': 2, 'twisted': 1, 'man': 1, 'every': 1, 'bit': 1, 'fans': 1, 'need': 1, 'know,': 1, 'stacksby': 1, 'vile': 1, 'amalgamation': 1, 'evil': 1, 'bad': 1, 'world': 1, 'better': 1, 'place': 1, 'without': 1}\n",
      "Author: Lily Trebuchet \n",
      "Average sentence length: 78.84210526315789 \n",
      "Prepared text: ['hi,', \"i'm\", 'lily', 'trebuchet', 'from', 'east', 'egg,', 'long', 'island', 'i', 'love', 'cats,', 'hiking,', 'and', 'curling', 'up', 'under', 'a', 'warm', 'blanket', 'with', 'a', 'book', 'so', 'they', 'gave', 'this', 'little', 'questionnaire', 'to', 'use', 'for', 'our', 'bios', 'so', 'lets', 'get', 'started', 'what', 'are', 'some', 'of', 'my', 'least', 'favorite', 'household', 'chores', 'dishes,', 'oh', 'yes', \"it's\", 'definitely', 'the', 'dishes,', 'i', 'just', 'hate', 'doing', 'them,', \"don't\", 'you', 'who', 'is', 'your', 'favorite', 'actor', 'and', 'why', 'hmm,', \"that's\", 'a', 'hard', 'one,', 'but', 'i', 'think', 'recently', \"i'll\", 'have', 'to', 'go', 'with', 'michael', 'b', 'jordan,', 'every', 'bit', 'of', 'that', 'man', 'is', 'handsome,', 'handsome', 'do', 'you', 'remember', 'seeing', 'him', 'shirtless', 'i', \"can't\", 'believe', 'what', 'he', 'does', 'for', 'the', 'cameras', 'okay', 'okay', 'next', 'question,', 'what', 'is', 'your', 'perfect', 'date', 'well', 'it', 'starts', 'with', 'a', 'nice', 'dinner', 'at', 'a', 'delicious', 'but', 'small', 'restaurant,', 'you', 'know', 'like', 'one', 'of', 'those', 'places', 'where', 'the', 'owner', 'is', 'in', 'the', 'back', 'and', 'comes', 'out', 'to', 'talk', 'to', 'you', 'and', 'ask', 'you', 'how', 'your', 'meal', 'was', 'my', 'favorite', 'form', 'of', 'art', 'another', 'hard', 'one,', 'but', 'i', 'think', \"i'll\", 'have', 'to', 'go', 'with', 'music,', 'music', 'you', 'can', 'feel', 'in', 'your', 'whole', 'body', 'and', 'it', 'is', 'electrifying', 'and', 'best', 'of', 'all,', 'you', 'can', 'dance', 'to', 'it', 'okay', 'final', 'question,', \"let's\", 'see,', 'what', 'are', 'three', 'things', 'you', 'cannot', 'live', 'without', 'well', 'first', 'off,', 'my', 'beautiful,', 'beautiful', 'cat', 'jerry,', 'he', 'is', 'my', 'heart', 'and', 'spirit', 'animal', 'second', 'is', 'pasta,', 'definitely', 'pasta,', 'and', 'the', 'third', 'i', 'think', 'is', 'my', 'family,', 'i', 'love', 'all', 'of', 'them', 'very', 'much', 'and', 'they', 'support', 'me', 'in', 'everything', 'i', 'do', 'i', 'know', 'jay', 'stacksby', 'is', 'a', 'handsome', 'man', 'and', 'all', 'of', 'us', 'want', 'to', 'be', 'the', 'first', 'to', 'walk', 'down', 'the', 'aisle', 'with', 'him,', 'but', 'i', 'think', 'he', 'might', 'truly', 'be', 'the', 'one', 'for', 'me', 'okay', \"that's\", 'it', 'for', 'the', 'bio,', 'i', 'hope', 'you', 'have', 'fun', 'watching', 'the', 'show'] \n",
      "Word frequency table: {'hi,': 1, \"i'm\": 1, 'lily': 1, 'trebuchet': 1, 'from': 1, 'east': 1, 'egg,': 1, 'long': 1, 'island': 1, 'i': 11, 'love': 2, 'cats,': 1, 'hiking,': 1, 'and': 10, 'curling': 1, 'up': 1, 'under': 1, 'a': 6, 'warm': 1, 'blanket': 1, 'with': 5, 'book': 1, 'so': 2, 'they': 2, 'gave': 1, 'this': 1, 'little': 1, 'questionnaire': 1, 'to': 8, 'use': 1, 'for': 4, 'our': 1, 'bios': 1, 'lets': 1, 'get': 1, 'started': 1, 'what': 4, 'are': 2, 'some': 1, 'of': 7, 'my': 5, 'least': 1, 'favorite': 3, 'household': 1, 'chores': 1, 'dishes,': 2, 'oh': 1, 'yes': 1, \"it's\": 1, 'definitely': 2, 'the': 10, 'just': 1, 'hate': 1, 'doing': 1, 'them,': 1, \"don't\": 1, 'you': 9, 'who': 1, 'is': 9, 'your': 4, 'actor': 1, 'why': 1, 'hmm,': 1, \"that's\": 2, 'hard': 2, 'one,': 2, 'but': 4, 'think': 4, 'recently': 1, \"i'll\": 2, 'have': 3, 'go': 2, 'michael': 1, 'b': 1, 'jordan,': 1, 'every': 1, 'bit': 1, 'that': 1, 'man': 2, 'handsome,': 1, 'handsome': 2, 'do': 2, 'remember': 1, 'seeing': 1, 'him': 1, 'shirtless': 1, \"can't\": 1, 'believe': 1, 'he': 3, 'does': 1, 'cameras': 1, 'okay': 4, 'next': 1, 'question,': 2, 'perfect': 1, 'date': 1, 'well': 2, 'it': 4, 'starts': 1, 'nice': 1, 'dinner': 1, 'at': 1, 'delicious': 1, 'small': 1, 'restaurant,': 1, 'know': 2, 'like': 1, 'one': 2, 'those': 1, 'places': 1, 'where': 1, 'owner': 1, 'in': 3, 'back': 1, 'comes': 1, 'out': 1, 'talk': 1, 'ask': 1, 'how': 1, 'meal': 1, 'was': 1, 'form': 1, 'art': 1, 'another': 1, 'music,': 1, 'music': 1, 'can': 2, 'feel': 1, 'whole': 1, 'body': 1, 'electrifying': 1, 'best': 1, 'all,': 1, 'dance': 1, 'final': 1, \"let's\": 1, 'see,': 1, 'three': 1, 'things': 1, 'cannot': 1, 'live': 1, 'without': 1, 'first': 2, 'off,': 1, 'beautiful,': 1, 'beautiful': 1, 'cat': 1, 'jerry,': 1, 'heart': 1, 'spirit': 1, 'animal': 1, 'second': 1, 'pasta,': 2, 'third': 1, 'family,': 1, 'all': 2, 'them': 1, 'very': 1, 'much': 1, 'support': 1, 'me': 2, 'everything': 1, 'jay': 1, 'stacksby': 1, 'us': 1, 'want': 1, 'be': 2, 'walk': 1, 'down': 1, 'aisle': 1, 'him,': 1, 'might': 1, 'truly': 1, 'bio,': 1, 'hope': 1, 'fun': 1, 'watching': 1, 'show': 1}\n",
      "Author: Myrtle Beech \n",
      "Average sentence length: 34.357142857142854 \n",
      "Prepared text: ['salutations', 'my', 'name', 'myrtle', 'myrtle', 'beech', 'i', 'am', 'a', 'woman', 'of', 'simple', 'tastes', 'i', 'enjoy', 'reading,', 'thinking,', 'and', 'doing', 'my', 'taxes', 'i', 'entered', 'this', 'competition', 'because', 'i', 'want', 'a', 'serious', 'relationship', 'i', 'want', 'a', 'commitment', 'the', 'last', 'man', 'i', 'dated', 'was', 'too', 'whimsical', 'he', 'wanted', 'to', 'go', 'on', 'dates', 'that', 'had', 'no', 'plan', 'no', 'end', 'goal', 'sometimes', 'we', 'would', 'just', 'end', 'up', 'wandering', 'the', 'streets', 'after', 'dinner', 'he', 'called', 'it', 'a', '\"walk\"', 'a', '\"walk\"', 'with', 'no', 'destination', 'can', 'you', 'imagine', 'i', 'like', 'every', 'action', 'i', 'take', 'to', 'have', 'a', 'measurable', 'effect', 'when', 'i', 'see', 'a', 'movie,', 'i', 'like', 'to', 'walk', 'away', 'with', 'insights', 'that', 'i', 'did', 'not', 'have', 'before', 'when', 'i', 'take', 'a', 'bike', 'ride,', 'there', 'better', 'be', 'a', 'worthy', 'destination', 'at', 'the', 'end', 'of', 'the', 'bike', 'path', 'jay', 'seems', 'frivolous', 'at', 'times', 'this', 'worries', 'me', 'however,', 'it', 'is', 'my', 'staunch', 'belief', 'that', 'one', 'does', 'not', 'make', 'and', 'keep', 'money', 'without', 'having', 'a', 'modicum', 'of', 'discipline', 'as', 'such,', 'i', 'am', 'hopeful', 'i', 'will', 'now', 'list', 'three', 'things', 'i', 'cannot', 'live', 'without', 'water', 'emery', 'boards', 'dogs', 'thank', 'you', 'for', 'the', 'opportunity', 'to', 'introduce', 'myself', 'i', 'look', 'forward', 'to', 'the', 'competition'] \n",
      "Word frequency table: {'salutations': 1, 'my': 3, 'name': 1, 'myrtle': 2, 'beech': 1, 'i': 16, 'am': 2, 'a': 10, 'woman': 1, 'of': 3, 'simple': 1, 'tastes': 1, 'enjoy': 1, 'reading,': 1, 'thinking,': 1, 'and': 2, 'doing': 1, 'taxes': 1, 'entered': 1, 'this': 2, 'competition': 2, 'because': 1, 'want': 2, 'serious': 1, 'relationship': 1, 'commitment': 1, 'the': 6, 'last': 1, 'man': 1, 'dated': 1, 'was': 1, 'too': 1, 'whimsical': 1, 'he': 2, 'wanted': 1, 'to': 5, 'go': 1, 'on': 1, 'dates': 1, 'that': 3, 'had': 1, 'no': 3, 'plan': 1, 'end': 3, 'goal': 1, 'sometimes': 1, 'we': 1, 'would': 1, 'just': 1, 'up': 1, 'wandering': 1, 'streets': 1, 'after': 1, 'dinner': 1, 'called': 1, 'it': 2, '\"walk\"': 2, 'with': 2, 'destination': 2, 'can': 1, 'you': 2, 'imagine': 1, 'like': 2, 'every': 1, 'action': 1, 'take': 2, 'have': 2, 'measurable': 1, 'effect': 1, 'when': 2, 'see': 1, 'movie,': 1, 'walk': 1, 'away': 1, 'insights': 1, 'did': 1, 'not': 2, 'before': 1, 'bike': 2, 'ride,': 1, 'there': 1, 'better': 1, 'be': 1, 'worthy': 1, 'at': 2, 'path': 1, 'jay': 1, 'seems': 1, 'frivolous': 1, 'times': 1, 'worries': 1, 'me': 1, 'however,': 1, 'is': 1, 'staunch': 1, 'belief': 1, 'one': 1, 'does': 1, 'make': 1, 'keep': 1, 'money': 1, 'without': 2, 'having': 1, 'modicum': 1, 'discipline': 1, 'as': 1, 'such,': 1, 'hopeful': 1, 'will': 1, 'now': 1, 'list': 1, 'three': 1, 'things': 1, 'cannot': 1, 'live': 1, 'water': 1, 'emery': 1, 'boards': 1, 'dogs': 1, 'thank': 1, 'for': 1, 'opportunity': 1, 'introduce': 1, 'myself': 1, 'look': 1, 'forward': 1}\n",
      "Author: Gregg T. Fishy \n",
      "Average sentence length: 72.4 \n",
      "Prepared text: ['a', 'good', 'day', 'to', 'you', 'all,', 'i', 'am', 'gregg', 't', 'fishy,', 'of', 'the', 'fishy', 'enterprise', 'fortune', 'i', 'am', '37', 'years', 'young', 'an', 'adventurous', 'spirit', 'and', \"i've\", 'never', 'lost', 'my', 'sense', 'of', 'childlike', 'wonder', 'i', 'do', 'love', 'to', 'be', 'in', 'the', 'backyard', 'gardening', 'and', 'i', 'have', 'the', 'most', 'extraordinary', 'time', 'when', \"i'm\", 'fishing', 'fishing', 'for', 'what,', 'you', 'might', 'ask', 'why,', 'fishing', 'for', 'compliments', 'of', 'course', 'i', 'have', 'a', 'stunning', 'pair', 'of', 'radiant', 'blue', 'eyes', 'they', 'will', 'pierce', 'the', 'soul', 'of', 'anyone', 'who', 'dare', 'gaze', 'upon', 'my', 'countenance', 'i', 'quite', 'enjoy', 'going', 'on', 'long', 'jaunts', 'through', 'garden', 'paths', 'and', 'short', 'walks', 'through', 'greenhouses', 'i', 'hope', 'that', 'jay', 'will', 'be', 'as', 'absolutely', 'interesting', 'as', 'he', 'appears', 'on', 'the', 'television', 'i', 'find', 'that', 'he', 'has', 'some', 'of', 'the', 'most', 'curious', 'tastes', 'in', 'style', 'and', 'humor', 'when', \"i'm\", 'out', 'and', 'about', 'i', 'quite', 'enjoy', 'hearing', 'tales', 'that', 'instill', 'in', 'my', 'heart', 'of', 'hearts', 'the', 'fascination', 'that', 'beguiles', 'my', 'every', 'day', 'life', 'every', 'fiber', 'of', 'my', 'being', 'scintillates', 'and', 'vascillates', 'with', 'extreme', 'pleasure', 'during', 'one', 'of', 'these', 'charming', 'anecdotes', 'and', 'significantly', 'pleases', 'my', 'beautiful', 'personage', 'i', 'cannot', 'wait', 'to', 'enjoy', 'being', 'on', 'a', 'brand', 'new', 'jay', 'it', 'certainly', 'seems', 'like', 'a', 'grand', 'time', 'to', 'explore', 'life', 'and', 'love'] \n",
      "Word frequency table: {'a': 4, 'good': 1, 'day': 2, 'to': 4, 'you': 2, 'all,': 1, 'i': 10, 'am': 2, 'gregg': 1, 't': 1, 'fishy,': 1, 'of': 9, 'the': 7, 'fishy': 1, 'enterprise': 1, 'fortune': 1, '37': 1, 'years': 1, 'young': 1, 'an': 1, 'adventurous': 1, 'spirit': 1, 'and': 8, \"i've\": 1, 'never': 1, 'lost': 1, 'my': 6, 'sense': 1, 'childlike': 1, 'wonder': 1, 'do': 1, 'love': 2, 'be': 2, 'in': 3, 'backyard': 1, 'gardening': 1, 'have': 2, 'most': 2, 'extraordinary': 1, 'time': 2, 'when': 2, \"i'm\": 2, 'fishing': 3, 'for': 2, 'what,': 1, 'might': 1, 'ask': 1, 'why,': 1, 'compliments': 1, 'course': 1, 'stunning': 1, 'pair': 1, 'radiant': 1, 'blue': 1, 'eyes': 1, 'they': 1, 'will': 2, 'pierce': 1, 'soul': 1, 'anyone': 1, 'who': 1, 'dare': 1, 'gaze': 1, 'upon': 1, 'countenance': 1, 'quite': 2, 'enjoy': 3, 'going': 1, 'on': 3, 'long': 1, 'jaunts': 1, 'through': 2, 'garden': 1, 'paths': 1, 'short': 1, 'walks': 1, 'greenhouses': 1, 'hope': 1, 'that': 4, 'jay': 2, 'as': 2, 'absolutely': 1, 'interesting': 1, 'he': 2, 'appears': 1, 'television': 1, 'find': 1, 'has': 1, 'some': 1, 'curious': 1, 'tastes': 1, 'style': 1, 'humor': 1, 'out': 1, 'about': 1, 'hearing': 1, 'tales': 1, 'instill': 1, 'heart': 1, 'hearts': 1, 'fascination': 1, 'beguiles': 1, 'every': 2, 'life': 2, 'fiber': 1, 'being': 2, 'scintillates': 1, 'vascillates': 1, 'with': 1, 'extreme': 1, 'pleasure': 1, 'during': 1, 'one': 1, 'these': 1, 'charming': 1, 'anecdotes': 1, 'significantly': 1, 'pleases': 1, 'beautiful': 1, 'personage': 1, 'cannot': 1, 'wait': 1, 'brand': 1, 'new': 1, 'it': 1, 'certainly': 1, 'seems': 1, 'like': 1, 'grand': 1, 'explore': 1}\n"
     ]
    }
   ],
   "source": [
    "# Create the TextSample instances\n",
    "murderer_sample = TextSample(murder_note, \"Murderer\")\n",
    "lily_sample = TextSample(lily_trebuchet_intro, \"Lily Trebuchet\")\n",
    "myrtle_sample = TextSample(myrtle_beech_intro, \"Myrtle Beech\")\n",
    "gregg_sample = TextSample(gregg_t_fishy_intro, \"Gregg T. Fishy\")\n",
    "\n",
    "print(murderer_sample)\n",
    "print(lily_sample)\n",
    "print(myrtle_sample)\n",
    "print(gregg_sample)"
   ]
  },
  {
   "cell_type": "markdown",
   "metadata": {},
   "source": [
    "## Cleaning Our Data\n",
    "\n",
    "We want to compare the word choice and usage between the samples, but sentences make our text data fairly messy. In order to analyze the different messages fairly, we'll need to remove all the punctuation and uppercase letters from the samples.\n",
    "\n",
    "Create a function called `prepare_text` that takes a single parameter `text`, makes the text entirely lowercase, removes all the punctuation and returns a list of the words in the text in order.\n",
    "\n",
    "For example: `\"Where did you go, friend? We nearly saw each other.\"` would become `['where', 'did', 'you', 'go', 'friend', 'we', 'nearly', 'saw', 'each', 'other']`."
   ]
  },
  {
   "cell_type": "code",
   "execution_count": 96,
   "metadata": {},
   "outputs": [],
   "source": [
    "# Create a function to make text lower case and remove punctuation\n",
    "def prepare_text(text):\n",
    "    # Remove exclamation marks, question marks, and periods\n",
    "    fix_text = text.lower()\n",
    "    fix_text = fix_text.replace(\"!\", \"\")\n",
    "    fix_text = fix_text.replace(\"?\", \"\")\n",
    "    fix_text = fix_text.replace(\".\", \"\")\n",
    "    # Split paragraph into list of words\n",
    "    prepared_text = fix_text.split()\n",
    "    return prepared_text"
   ]
  },
  {
   "cell_type": "markdown",
   "metadata": {},
   "source": [
    "Update the constructor for `TextSample` to save the prepared text as `self.prepared_text`."
   ]
  },
  {
   "cell_type": "markdown",
   "metadata": {},
   "source": [
    "## Building A Frequency Table\n",
    "\n",
    "Now we want to see which words were most frequently used in each of the samples. Create a function called `build_frequency_table`. It takes in a list called `corpus` and creates a dictionary called `frequency_table`. For every element in `corpus` the value `frequency_table[element]` should be equal to the number of times that element appears in `corpus`. For example the input `['do', 'you', 'see', 'what', 'i', 'see']` would create the frequency table `{'what': 1, 'you': 1, 'see' 2, 'i': 1}`."
   ]
  },
  {
   "cell_type": "code",
   "execution_count": 97,
   "metadata": {},
   "outputs": [],
   "source": [
    "# Create a function to build a word frequency table\n",
    "def build_frequency_table(corpus):\n",
    "    frequency_table = {}\n",
    "    for word in corpus:\n",
    "        if word not in frequency_table:\n",
    "            frequency_table[word] = 0\n",
    "        frequency_table[word] += 1\n",
    "    return frequency_table"
   ]
  },
  {
   "cell_type": "markdown",
   "metadata": {},
   "source": [
    "## The Second Indicator: Favorite Words\n",
    "\n",
    "Use `build_frequency_table` with the prepared text to create a frequency table that counts how frequently all the words in each text sample appears. Call these functions in the constructor for `TextSample` and assign the word frequency table to a value called `self.word_count_frequency`."
   ]
  },
  {
   "cell_type": "markdown",
   "metadata": {},
   "source": [
    "## The Third Indicator: N-Grams\n",
    "\n",
    "An <a href='https://en.wikipedia.org/wiki/N-gram' target=\"_blank\">n-gram</a> is a text analysis technique used for pattern recognition and applicable throughout lingusitics. We're going to use n-grams to find who uses similar word-pairs to the murderer, and we think it's going to make our evidence strong enough to conclusively find the killer.\n",
    "\n",
    "Create a function called `ngram_creator` that takes a parameter `text_list`, a treated in-order list of the words in a text sample. `ngram_creator` should return a list of all adjacent pairs of words, styled as strings with a space in the center.\n",
    "\n",
    "For instance, calling `ngram_creator` with the input `['what', 'in', 'the', 'world', 'is', 'going', 'on']`\n",
    "Should produce the output `['what in', 'in the', 'the world', 'world is', 'is going', 'going on']`.\n",
    "\n",
    "These are two-word n-grams."
   ]
  },
  {
   "cell_type": "code",
   "execution_count": 98,
   "metadata": {},
   "outputs": [],
   "source": [
    "# Create a function to create a N-Gram list (adjacent pairs of words)\n",
    "def ngram_creator(text_list):\n",
    "    ngram_list = []\n",
    "    for i in range(1, len(text_list)):\n",
    "        ngram_list.append(text_list[i-1] + \" \" + text_list[i])\n",
    "    return ngram_list"
   ]
  },
  {
   "cell_type": "markdown",
   "metadata": {},
   "source": [
    "Use `ngram_creator` along with the prepared text to create a list of all the two-word ngrams in each `TextSample`. Use `build_frequency_table` to tabulate the frequency of each ngram. In the constructor for `TextSample` save this frequency table as `self.ngram_frequency`."
   ]
  },
  {
   "cell_type": "markdown",
   "metadata": {},
   "source": [
    "## Comparing Two Frequency Tables\n",
    "\n",
    "We want to know how similar two frequency tables are, let's write a function that computes the comparison between two frequency tables and scores them based on similarity.\n",
    "\n",
    "Write a function called `frequency_comparison` that takes two parameters, `table1` and `table2`. It should define two local variables, `appearances` and `mutual_appearances`. \n",
    "\n",
    "Iterate through `table1`'s keys and check if `table2` has the same key defined. If it is, compare the two values for the key -- the smaller value should get added to `mutual_appearances` and the larger should get added to `appearances`. If the key doesn't exist in `table2` the value for the key in `table1` should be added to `appearances`.\n",
    "\n",
    "Remember afterwards to iterate through all of `table2`'s keys that aren't in `table1` and add those to `appearances` as well.\n",
    "\n",
    "Return a frequency comparison score equal to the mutual appearances divided by the total appearances."
   ]
  },
  {
   "cell_type": "code",
   "execution_count": 99,
   "metadata": {},
   "outputs": [],
   "source": [
    "# Create a function to compare two frequency tables\n",
    "def frequency_comparison(table1, table2):\n",
    "    appearances = 0\n",
    "    mutual_appearances = 0\n",
    "    for key in table1:\n",
    "        if key in table2:\n",
    "            if table1[key] < table2[key]:\n",
    "                mutual_appearances += table1[key]\n",
    "                appearances += table2[key]\n",
    "            else:\n",
    "                mutual_appearances += table2[key]\n",
    "                appearances += table1[key]\n",
    "        else:\n",
    "            appearances += table1[key]\n",
    "    for key in table2:\n",
    "        if key not in table1:\n",
    "            appearances += table2[key]\n",
    "    #print(\"Mutual appearances: \" + str(mutual_appearances) + \" Appearances: \" + str(appearances))\n",
    "    frequency_comparison_score = mutual_appearances / appearances\n",
    "    return frequency_comparison_score"
   ]
  },
  {
   "cell_type": "markdown",
   "metadata": {},
   "source": [
    "## Comparing Average Sentence Length\n",
    "\n",
    "In order to calculate the change between the average sentence lengths of two `TextSamples` we're going to use the formula for the percent difference.\n",
    "\n",
    "Write a function called `percent_difference` that returns the percent difference as calculated from the following formula:\n",
    "\n",
    "$$\\frac{|\\ value1 - value2\\ |}{\\frac{value1 + value2}{2}}$$\n",
    "\n",
    "In the numerator is the absolute value (use `abs()`) of the two values subtracted from each other. In the denominator is the average of the two values (value1 + value2 divided by two)."
   ]
  },
  {
   "cell_type": "code",
   "execution_count": 100,
   "metadata": {},
   "outputs": [],
   "source": [
    "# Create a function to calculate the change between the average sentence lengths of two samples\n",
    "def percent_difference(value1, value2):\n",
    "    percentage_difference = (abs(value1 - value2)) / ((value1 + value2) / 2)\n",
    "    return percentage_difference"
   ]
  },
  {
   "cell_type": "markdown",
   "metadata": {},
   "source": [
    "## Scoring Similarity with All Three Indicators\n",
    "\n",
    "We want to figure out who did it, so let's use all three of the indicators we built to score text similarity. Define a function `find_text_similarity` that takes two `TextSample` arguments and returns a float between 0 and 1 where 0 means completely different and 1 means the same exact sample. You can evaluate the similarity by the following criteria:\n",
    "\n",
    "- Calculate the percent difference of their average sentence length using `percent_difference`. Save that into a variable called `sentence_length_difference`. Since we want to find how _similar_ the two passages are calculate the inverse of `sentence_length_difference` by using the formula `abs(1 - sentence_length_difference)`. Save that into a variable called `sentence_length_similarity`.\n",
    "- Calculate the difference between their word usage using `frequency_comparison` on both `TextSample`'s `word_count_frequency` attributes. Save that into a variable called `word_count_similarity`.\n",
    "- Calculate the difference between their two-word ngram using `frequency_table` on both `TextSample`'s `ngram_frequency` attributes. Save that into a variable called `ngram_similarity`.\n",
    "- Add all three similarities together and divide by 3."
   ]
  },
  {
   "cell_type": "code",
   "execution_count": 101,
   "metadata": {},
   "outputs": [],
   "source": [
    "def find_text_similarity(TextSample1, TextSample2):\n",
    "    sentence_length_difference = percent_difference(TextSample1.average_sentence_length, TextSample2.average_sentence_length)\n",
    "    sentence_length_similarity = abs(1 - sentence_length_difference)\n",
    "    word_count_similarity = frequency_comparison(TextSample1.word_count_frequency, TextSample2.word_count_frequency)\n",
    "    ngram_similarity = frequency_comparison(TextSample1.ngram_frequency, TextSample2.ngram_frequency)\n",
    "    similarity_indicator_score = (sentence_length_similarity + word_count_similarity + ngram_similarity) / 3\n",
    "    return similarity_indicator_score"
   ]
  },
  {
   "cell_type": "markdown",
   "metadata": {},
   "source": [
    "## Rendering the Results\n",
    "\n",
    "We want to print out the results in a way that we can read! For each contestant on _A Brand New Jay_ print out the following:\n",
    "\n",
    "- Their name\n",
    "- Their similarity score to the murder letter"
   ]
  },
  {
   "cell_type": "code",
   "execution_count": 102,
   "metadata": {
    "scrolled": false
   },
   "outputs": [
    {
     "name": "stdout",
     "output_type": "stream",
     "text": [
      "Myrtle Beech: Similarity Score to the Murder Letter = 0.07773556744062272\n",
      "Lily Trebuchet: Similarity Score to the Murder Letter = 0.3087007119529558\n",
      "Gregg T Fishy: Similarity Score to the Murder Letter = 0.24603986107456133\n"
     ]
    }
   ],
   "source": [
    "print(\"Myrtle Beech: Similarity Score to the Murder Letter = \" + str(find_text_similarity(myrtle_sample, murderer_sample)))\n",
    "print(\"Lily Trebuchet: Similarity Score to the Murder Letter = \" + str(find_text_similarity(lily_sample, murderer_sample)))\n",
    "print(\"Gregg T Fishy: Similarity Score to the Murder Letter = \" + str(find_text_similarity(gregg_sample, murderer_sample)))"
   ]
  },
  {
   "cell_type": "markdown",
   "metadata": {},
   "source": [
    "# Who Dunnit?\n",
    "\n",
    "In the cell below, print the name of the person who killed Jay Stacksby."
   ]
  },
  {
   "cell_type": "code",
   "execution_count": 103,
   "metadata": {},
   "outputs": [
    {
     "name": "stdout",
     "output_type": "stream",
     "text": [
      "Lily Trebuchet\n"
     ]
    }
   ],
   "source": [
    "print(\"Lily Trebuchet\")"
   ]
  }
 ],
 "metadata": {
  "kernelspec": {
   "display_name": "Python 3",
   "language": "python",
   "name": "python3"
  },
  "language_info": {
   "codemirror_mode": {
    "name": "ipython",
    "version": 3
   },
   "file_extension": ".py",
   "mimetype": "text/x-python",
   "name": "python",
   "nbconvert_exporter": "python",
   "pygments_lexer": "ipython3",
   "version": "3.6.8"
  }
 },
 "nbformat": 4,
 "nbformat_minor": 2
}
